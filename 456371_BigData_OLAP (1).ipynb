{
  "cells": [
    {
      "cell_type": "markdown",
      "metadata": {
        "id": "AfN4FeNYb-rs"
      },
      "source": [
        "Data Warehouse, SQL Query and KPI\n",
        "* Nama: Muhammad Rifat Bagus Adikusuma\n",
        "* NIM: 20/456371/TK/50501\n",
        "* Prodi : Teknologi Informasi"
      ]
    },
    {
      "cell_type": "code",
      "execution_count": 2,
      "metadata": {
        "colab": {
          "base_uri": "https://localhost:8080/"
        },
        "id": "L3pJdRt2h5s2",
        "outputId": "c1f90122-0c60-417c-b317-47311913f42f"
      },
      "outputs": [
        {
          "name": "stdout",
          "output_type": "stream",
          "text": [
            "Mounted at /content/drive\n"
          ]
        }
      ],
      "source": [
        "from google.colab import drive\n",
        "drive.mount('/content/drive')"
      ]
    },
    {
      "cell_type": "code",
      "execution_count": 3,
      "metadata": {
        "id": "3v9PTFzKikzx"
      },
      "outputs": [],
      "source": [
        "import sqlite3"
      ]
    },
    {
      "cell_type": "code",
      "execution_count": 4,
      "metadata": {
        "id": "SwZV-X2oj1Qy"
      },
      "outputs": [],
      "source": [
        "import pandas as pd"
      ]
    },
    {
      "cell_type": "code",
      "execution_count": 5,
      "metadata": {
        "id": "KHUxJ2bViobT"
      },
      "outputs": [],
      "source": [
        "assesstments= pd.read_csv(\"/content/drive/MyDrive/Dataset BigData/assessments.csv\")\n",
        "courses =pd.read_csv(\"/content/drive/MyDrive/Dataset BigData/courses.csv\")\n",
        "stundentAssessment =pd.read_csv(\"/content/drive/MyDrive/Dataset BigData/studentAssessment.csv\")\n",
        "studentInfo =pd.read_csv(\"/content/drive/MyDrive/Dataset BigData/studentInfo.csv\")\n",
        "studentRegistration =pd.read_csv(\"/content/drive/MyDrive/Dataset BigData/studentRegistration.csv\")\n",
        "studentVle =pd.read_csv(\"/content/drive/MyDrive/Dataset BigData/studentVle.csv\")\n",
        "vle =pd.read_csv(\"/content/drive/MyDrive/Dataset BigData/vle.csv\")"
      ]
    },
    {
      "cell_type": "code",
      "execution_count": 6,
      "metadata": {
        "colab": {
          "base_uri": "https://localhost:8080/"
        },
        "id": "fetNJzQrs7pZ",
        "outputId": "f029df80-2434-49a4-bbb6-f886d8b7a268"
      },
      "outputs": [
        {
          "name": "stdout",
          "output_type": "stream",
          "text": [
            "Count of every unique value in 'course_code':\n",
            "Pass: 12361\n",
            "Withdrawn: 10156\n",
            "Fail: 7052\n",
            "Distinction: 3024\n"
          ]
        }
      ],
      "source": [
        "value_counts = studentInfo['final_result'].value_counts()\n",
        "\n",
        "# Print the count of every unique value\n",
        "print(\"Count of every unique value in 'course_code':\")\n",
        "for value, count in value_counts.items():\n",
        "     print(f\"{value}: {count}\")"
      ]
    },
    {
      "cell_type": "code",
      "execution_count": 7,
      "metadata": {
        "id": "aY1le-uekGbP"
      },
      "outputs": [],
      "source": [
        "conn = sqlite3.connect(':memory:')"
      ]
    },
    {
      "cell_type": "code",
      "execution_count": 8,
      "metadata": {
        "colab": {
          "base_uri": "https://localhost:8080/"
        },
        "id": "6veLDgPhm7gf",
        "outputId": "877ff5de-fcec-4234-d8e0-86f6e99608c1"
      },
      "outputs": [
        {
          "name": "stdout",
          "output_type": "stream",
          "text": [
            "Existing tables:\n",
            "assesstments\n",
            "courses\n",
            "studentAssesstment\n",
            "studentInfo\n",
            "studentRegistration\n",
            "studentVle\n",
            "vle\n"
          ]
        }
      ],
      "source": [
        "import sqlite3\n",
        "\n",
        "# Create an in-memory SQLite database\n",
        "conn = sqlite3.connect(':memory:')\n",
        "cursor = conn.cursor()\n",
        "\n",
        "# Execute the SQL query to create tables and insert data\n",
        "assesstments.to_sql('assesstments', conn, index=False)\n",
        "courses.to_sql('courses', conn, index=False)\n",
        "stundentAssessment.to_sql('studentAssesstment', conn, index=False)\n",
        "studentInfo.to_sql('studentInfo', conn, index=False)\n",
        "studentRegistration.to_sql('studentRegistration', conn, index=False)\n",
        "studentVle.to_sql('studentVle', conn, index=False)\n",
        "vle.to_sql('vle', conn, index=False)\n",
        "\n",
        "# Commit the changes\n",
        "conn.commit()\n",
        "\n",
        "# Execute the SQL query to fetch table names\n",
        "show_tables_query = \"SELECT name FROM sqlite_master WHERE type='table';\"\n",
        "cursor.execute(show_tables_query)\n",
        "\n",
        "# Fetch and print the table names\n",
        "tables = cursor.fetchall()\n",
        "print(\"Existing tables:\")\n",
        "for table in tables:\n",
        "    print(table[0])\n",
        "\n",
        "# Close the connection\n",
        "# conn.close()\n"
      ]
    },
    {
      "cell_type": "code",
      "execution_count": 8,
      "metadata": {
        "id": "0C1A-RfklJuK"
      },
      "outputs": [],
      "source": []
    },
    {
      "cell_type": "code",
      "execution_count": 9,
      "metadata": {
        "colab": {
          "base_uri": "https://localhost:8080/"
        },
        "id": "npzTzfGUlx6e",
        "outputId": "65c30644-add9-4ca8-adfd-c6a76c84a4b8"
      },
      "outputs": [
        {
          "name": "stdout",
          "output_type": "stream",
          "text": [
            "  code_module  completion_rate\n",
            "0         AAA        74.578652\n",
            "1         GGG        59.960396\n",
            "2         EEE        57.712487\n",
            "3         FFF        49.317291\n",
            "4         BBB        48.803952\n",
            "5         DDD        44.630643\n",
            "6         CCC        39.473065\n"
          ]
        }
      ],
      "source": [
        "cursor = conn.cursor()\n",
        "query = '''\n",
        "SELECT\n",
        "    code_module,\n",
        "    (COUNT(DISTINCT CASE WHEN final_result IN ('Pass', 'Distinction') THEN id_student END) * 100.0 / COUNT(DISTINCT id_student)) AS completion_rate\n",
        "FROM\n",
        "    studentInfo\n",
        "GROUP BY\n",
        "    code_module\n",
        "ORDER BY\n",
        "  completion_rate DESC;\n",
        "'''\n",
        "result = pd.read_sql_query(query, conn)\n",
        "print(result)"
      ]
    },
    {
      "cell_type": "code",
      "execution_count": 10,
      "metadata": {
        "colab": {
          "base_uri": "https://localhost:8080/"
        },
        "id": "FHSmPXS7kvun",
        "outputId": "890066ce-a97f-479e-8676-99f89a0e0d46"
      },
      "outputs": [
        {
          "name": "stdout",
          "output_type": "stream",
          "text": [
            "  code_module  distinct_completion_rate\n",
            "0         GGG                 15.683168\n",
            "1         EEE                 12.451906\n",
            "2         CCC                 11.714891\n",
            "3         FFF                  9.057726\n",
            "4         BBB                  8.801352\n",
            "5         DDD                  6.549248\n",
            "6         AAA                  6.179775\n"
          ]
        }
      ],
      "source": [
        "query = '''\n",
        "SELECT\n",
        "    code_module,\n",
        "    (COUNT(DISTINCT CASE WHEN final_result = 'Distinction' THEN id_student END) * 100.0 / COUNT(DISTINCT id_student)) AS distinct_completion_rate\n",
        "FROM\n",
        "    studentInfo\n",
        "GROUP BY\n",
        "    code_module\n",
        "ORDER BY\n",
        "  distinct_completion_rate DESC;\n",
        "\n",
        "'''\n",
        "result_graduate_distinction = pd.read_sql_query(query, conn)\n",
        "print(result_graduate_distinction)"
      ]
    },
    {
      "cell_type": "code",
      "execution_count": 11,
      "metadata": {
        "colab": {
          "base_uri": "https://localhost:8080/"
        },
        "id": "6QGfMdlexffc",
        "outputId": "a2116612-6a62-497b-85a9-2cdad79a7b85"
      },
      "outputs": [
        {
          "name": "stdout",
          "output_type": "stream",
          "text": [
            "  code_module  average_score\n",
            "0         EEE      81.180066\n",
            "1         GGG      79.700493\n",
            "2         FFF      77.707590\n",
            "3         BBB      76.706368\n",
            "4         CCC      73.261398\n",
            "5         DDD      70.090800\n",
            "6         AAA      69.030515\n"
          ]
        }
      ],
      "source": [
        "query = '''\n",
        "SELECT\n",
        "    a.code_module,\n",
        "    AVG(sa.score) AS average_score\n",
        "FROM\n",
        "    studentAssesstment sa\n",
        "JOIN\n",
        "    assesstments a ON sa.id_assessment = a.id_assessment\n",
        "GROUP BY\n",
        "    a.code_module\n",
        "ORDER BY\n",
        "    average_score DESC;\n",
        "\n",
        "'''\n",
        "result_average_assesstment_score = pd.read_sql_query(query, conn)\n",
        "print(result_average_assesstment_score)"
      ]
    },
    {
      "cell_type": "code",
      "execution_count": 12,
      "metadata": {
        "colab": {
          "base_uri": "https://localhost:8080/"
        },
        "id": "I_uWhqeVy91F",
        "outputId": "2caa39a7-312d-49d6-8fc3-cdab053e5a61"
      },
      "outputs": [
        {
          "name": "stdout",
          "output_type": "stream",
          "text": [
            "  code_module  average_time_spent  unique_students\n",
            "0         BBB          128.457143             6484\n",
            "1         GGG          126.500000             2359\n",
            "2         FFF          125.500000             6799\n",
            "3         EEE          125.500000             2634\n",
            "4         CCC          125.500000             3852\n",
            "5         AAA          122.500000              702\n",
            "6         DDD          118.500000             5407\n"
          ]
        }
      ],
      "source": [
        "query = '''\n",
        "SELECT\n",
        "    code_module,\n",
        "    AVG(DISTINCT date) AS average_time_spent,\n",
        "    COUNT(DISTINCT id_student) AS unique_students\n",
        "FROM\n",
        "    studentVle\n",
        "GROUP BY\n",
        "    code_module\n",
        "ORDER BY\n",
        "    average_time_spent DESC;\n",
        "\n",
        "\n",
        "'''\n",
        "result_engagement = pd.read_sql_query(query, conn)\n",
        "print(result_engagement)"
      ]
    },
    {
      "cell_type": "code",
      "execution_count": 13,
      "metadata": {
        "colab": {
          "base_uri": "https://localhost:8080/"
        },
        "id": "mPpgD1uq2d4J",
        "outputId": "5c9217ea-5818-4fb9-ffaa-99ab374f33ca"
      },
      "outputs": [
        {
          "name": "stdout",
          "output_type": "stream",
          "text": [
            "                  region  total_students  percentage_of_students\n",
            "0               Scotland            3446               10.572822\n",
            "1    East Anglian Region            3340               10.247599\n",
            "2          London Region            3216                9.867149\n",
            "3           South Region            3092                9.486700\n",
            "4   North Western Region            2906                8.916025\n",
            "5   West Midlands Region            2582                7.921946\n",
            "6      South West Region            2436                7.473997\n",
            "7   East Midlands Region            2365                7.256159\n",
            "8      South East Region            2111                6.476851\n",
            "9                  Wales            2086                6.400147\n",
            "10      Yorkshire Region            2006                6.154696\n",
            "11          North Region            1823                5.593226\n",
            "12               Ireland            1184                3.632682\n"
          ]
        }
      ],
      "source": [
        "query = '''\n",
        "SELECT\n",
        "    region,\n",
        "    COUNT(*) AS total_students,\n",
        "    (COUNT(*) * 100.0 / (SELECT COUNT(*) FROM studentInfo)) AS percentage_of_students\n",
        "FROM\n",
        "    studentInfo\n",
        "GROUP BY\n",
        "    region\n",
        "ORDER BY\n",
        "    percentage_of_students DESC;\n",
        "'''\n",
        "result_studentbyregion = pd.read_sql_query(query, conn)\n",
        "print(result_studentbyregion)"
      ]
    },
    {
      "cell_type": "code",
      "execution_count": 14,
      "metadata": {
        "colab": {
          "base_uri": "https://localhost:8080/"
        },
        "id": "QvTtfycpQUAE",
        "outputId": "271e8026-e35a-4851-829a-82f757a242af"
      },
      "outputs": [
        {
          "name": "stdout",
          "output_type": "stream",
          "text": [
            "   overall_total_avg_clicks\n",
            "0                  3.277612\n"
          ]
        }
      ],
      "source": [
        "query = '''\n",
        "\n",
        "SELECT\n",
        "    AVG(avg_clicks_per_student) AS overall_total_avg_clicks\n",
        "FROM (\n",
        "    SELECT\n",
        "        id_student,\n",
        "        AVG(sum_click) AS avg_clicks_per_student\n",
        "    FROM\n",
        "        studentVle\n",
        "    GROUP BY\n",
        "        id_student\n",
        ") AS student_avg_clicks;\n",
        "\n",
        "'''\n",
        "result_student_interaction = pd.read_sql_query(query, conn)\n",
        "print(result_student_interaction)"
      ]
    },
    {
      "cell_type": "code",
      "execution_count": 15,
      "metadata": {
        "id": "pbmihXGpT1_Q"
      },
      "outputs": [],
      "source": [
        "query_create_fact_table = '''\n",
        "CREATE TABLE fact_table AS\n",
        "SELECT\n",
        "    si.code_module,\n",
        "    (COUNT(DISTINCT CASE WHEN si.final_result IN ('Pass', 'Distinction') THEN si.id_student END) * 100.0 / COUNT(DISTINCT si.id_student)) AS completion_rate,\n",
        "    (COUNT(DISTINCT CASE WHEN si.final_result = 'Distinction' THEN si.id_student END) * 100.0 / COUNT(DISTINCT si.id_student)) AS distinct_completion_rate,\n",
        "    AVG(sas.score) AS average_score,\n",
        "    AVG(DISTINCT sv.date) AS average_time_spent,\n",
        "    COUNT(DISTINCT sv.id_student) AS unique_students,\n",
        "    (COUNT(*) * 100.0 / (SELECT COUNT(*) FROM studentInfo)) AS percentage_of_students\n",
        "FROM\n",
        "    studentInfo si\n",
        "JOIN\n",
        "    studentAssesstment sas ON si.id_student = sas.id_student\n",
        "JOIN\n",
        "    assesstments a ON sas.id_assessment = a.id_assessment\n",
        "JOIN\n",
        "    studentVle sv ON si.id_student = sv.id_student\n",
        "GROUP BY\n",
        "    si.code_module;\n",
        "'''\n",
        "\n",
        "# Execute the query\n",
        "conn.execute(query_create_fact_table)\n",
        "\n",
        "# Commit the changes\n",
        "conn.commit()"
      ]
    },
    {
      "cell_type": "code",
      "execution_count": 20,
      "metadata": {
        "colab": {
          "base_uri": "https://localhost:8080/"
        },
        "id": "Xh82HNkwGGcS",
        "outputId": "ca67b8ac-ff9b-4111-afd8-b8093aeea0e4"
      },
      "outputs": [
        {
          "name": "stdout",
          "output_type": "stream",
          "text": [
            "  code_module  completion_rate  distinct_completion_rate  average_score  \\\n",
            "0         AAA        78.286558                  6.499261      73.397366   \n",
            "1         BBB        62.995299                 11.366689      79.195723   \n",
            "2         CCC        45.620239                 13.547334      78.893889   \n",
            "3         DDD        54.982094                  8.068254      74.228109   \n",
            "4         EEE        71.090047                 15.338216      78.626570   \n",
            "5         FFF        59.901478                 11.001642      79.615913   \n",
            "\n",
            "   average_time_spent  unique_students  percentage_of_students  \n",
            "0          122.500000              677             5909.081705  \n",
            "1          122.469178             5956            43535.114902  \n",
            "2          122.000000             3676            86483.794066  \n",
            "3          122.000000             4747            75189.246157  \n",
            "4          123.975945             2321            26543.260823  \n",
            "5          122.000000             6090           157404.102108  \n"
          ]
        }
      ],
      "source": [
        "query = '''\n",
        "\n",
        "SELECT\n",
        "   *\n",
        "FROM\n",
        "    fact_table\n",
        "LIMIT 6;\n",
        "\n",
        "\n",
        "'''\n",
        "result_fact = pd.read_sql_query(query, conn)\n",
        "print(result_fact)"
      ]
    },
    {
      "cell_type": "code",
      "execution_count": 20,
      "metadata": {
        "id": "hjOrRM7uXY8u"
      },
      "outputs": [],
      "source": []
    },
    {
      "cell_type": "markdown",
      "metadata": {
        "id": "r8wwg5Yib9SM"
      },
      "source": []
    },
    {
      "cell_type": "code",
      "execution_count": null,
      "metadata": {
        "id": "uO6QLnmCXdk0"
      },
      "outputs": [],
      "source": []
    }
  ],
  "metadata": {
    "colab": {
      "provenance": []
    },
    "kernelspec": {
      "display_name": "Python 3",
      "name": "python3"
    },
    "language_info": {
      "name": "python"
    }
  },
  "nbformat": 4,
  "nbformat_minor": 0
}
